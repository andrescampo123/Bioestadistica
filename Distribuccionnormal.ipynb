{
 "cells": [
  {
   "cell_type": "code",
   "execution_count": null,
   "id": "c00c2788",
   "metadata": {},
   "outputs": [],
   "source": [
    "import os\n",
    "from pathlib import Path\n",
    "import numpy as np\n",
    "import pandas as pd\n",
    "from scipy.stats import shapiro, kstest, norm, anderson\n",
    "import matplotlib.pyplot as plt\n"
   ]
  },
  {
   "cell_type": "code",
   "execution_count": null,
   "id": "7b0df9ec",
   "metadata": {},
   "outputs": [],
   "source": [
    "FILE_CANDIDATES = [\n",
    "    \"Taller 2.1.DN.SR.xlsx\"]  # ruta del entorno actual\n",
    "\n",
    "xlsx_path = None\n",
    "for p in FILE_CANDIDATES:\n",
    "    if Path(p).exists():\n",
    "        xlsx_path = p\n",
    "        break\n",
    "\n",
    "if xlsx_path is None:\n",
    "    raise FileNotFoundError(\n",
    "        \"No se encontró 'Taller 2.1.DN.SR.xlsx'. Ajusta FILE_CANDIDATES con tu ruta local.\"\n",
    "    )\n",
    "\n",
    "df = pd.read_excel(xlsx_path, sheet_name=\"Data set\")"
   ]
  },
  {
   "cell_type": "code",
   "execution_count": null,
   "id": "58a205b9",
   "metadata": {},
   "outputs": [],
   "source": [
    "# ESTADÍSTICOS (μ y σ muestral) por variable\n",
    "# ---------------------------------------------\n",
    "def mu_sigma(series: pd.Series):\n",
    "    x = pd.to_numeric(series, errors=\"coerce\").dropna()\n",
    "    return float(x.mean()), float(x.std(ddof=1))\n",
    "\n",
    "mu_age, sd_age = mu_sigma(df[\"edad_años\"])\n",
    "mu_pas, sd_pas = mu_sigma(df[\"pas_mmHg\"])\n",
    "mu_col, sd_col = mu_sigma(df[\"colesterol_mgdl\"])\n",
    "mu_imc, sd_imc = mu_sigma(df[\"imc\"])\n",
    "mu_coag, sd_coag = mu_sigma(df[\"coag_seg\"])\n",
    "\n",
    "print(\"=== Parámetros estimados (μ, σ) desde la hoja 'Data set' ===\")\n",
    "print(f\"Edad (años)        -> μ={mu_age:.4f}, σ={sd_age:.4f}\")\n",
    "print(f\"PAS (mmHg)         -> μ={mu_pas:.4f}, σ={sd_pas:.4f}\")\n",
    "print(f\"Colesterol (mg/dL) -> μ={mu_col:.4f}, σ={sd_col:.4f}\")\n",
    "print(f\"IMC (kg/m²)        -> μ={mu_imc:.4f}, σ={sd_imc:.4f}\")\n",
    "print(f\"Coagulación (s)    -> μ={mu_coag:.4f}, σ={sd_coag:.4f}\")\n",
    "print()\n",
    "\n",
    "# Helpers para impresión\n",
    "fmt = lambda v: f\"{v:.4f}\""
   ]
  },
  {
   "cell_type": "code",
   "execution_count": null,
   "id": "9ec0c508",
   "metadata": {},
   "outputs": [],
   "source": [
    "# [1] Edad: ¿P(Edad < 40)?\n",
    "# Excel: =NORM.DIST(40, μ_edad, σ_edad, VERDADERO)\n",
    "p1 = norm.cdf(40, loc=mu_age, scale=sd_age)\n",
    "print(\"[1] P(Edad < 40) =\", fmt(p1))"
   ]
  },
  {
   "cell_type": "code",
   "execution_count": null,
   "id": "ff46fe8b",
   "metadata": {},
   "outputs": [],
   "source": [
    "# [2] Edad: ¿P(45 ≤ Edad ≤ 60)?\n",
    "# Excel: =NORM.DIST(60, μ_edad, σ_edad, VERDADERO) - NORM.DIST(45, μ_edad, σ_edad, VERDADERO)\n",
    "p2 = norm.cdf(60, mu_age, sd_age) - norm.cdf(45, mu_age, sd_age)\n",
    "print(\"[2] P(45 ≤ Edad ≤ 60) =\", fmt(p2))"
   ]
  },
  {
   "cell_type": "code",
   "execution_count": null,
   "id": "e12aeab3",
   "metadata": {},
   "outputs": [],
   "source": [
    "# [3] Edad: Percentil 90 (mínimo del 10% superior)\n",
    "# Excel: =NORM.INV(0.90, μ_edad, σ_edad)\n",
    "# =========================================================\n",
    "p3 = norm.ppf(0.90, mu_age, sd_age)\n",
    "print(\"[3] Edad en P90 =\", fmt(p3), \"años\")\n"
   ]
  },
  {
   "cell_type": "code",
   "execution_count": null,
   "id": "63241625",
   "metadata": {},
   "outputs": [],
   "source": [
    "# [4] PAS: ¿P(PAS > 140 mmHg)?\n",
    "# Excel: =1 - NORM.DIST(140, μ_pas, σ_pas, VERDADERO)\n",
    "# =========================================================\n",
    "p4 = 1.0 - norm.cdf(140, mu_pas, sd_pas)\n",
    "print(\"[4] P(PAS > 140) =\", fmt(p4))\n"
   ]
  },
  {
   "cell_type": "code",
   "execution_count": null,
   "id": "aa5f9690",
   "metadata": {},
   "outputs": [],
   "source": [
    "# [5] PAS: valor en el percentil 95\n",
    "# Excel: =NORM.INV(0.95, μ_pas, σ_pas)\n",
    "# =========================================================\n",
    "p5 = norm.ppf(0.95, mu_pas, sd_pas)\n",
    "print(\"[5] PAS en P95 =\", fmt(p5), \"mmHg\")\n"
   ]
  },
  {
   "cell_type": "code",
   "execution_count": null,
   "id": "7dc10f61",
   "metadata": {},
   "outputs": [],
   "source": [
    "# [6] Colesterol: ¿P(Colesterol > 240 mg/dL)?\n",
    "# Excel: =1 - NORM.DIST(240, μ_col, σ_col, VERDADERO)\n",
    "# =========================================================\n",
    "p6 = 1.0 - norm.cdf(240, mu_col, sd_col)\n",
    "print(\"[6] P(Colesterol > 240) =\", fmt(p6))\n"
   ]
  },
  {
   "cell_type": "code",
   "execution_count": null,
   "id": "475a9115",
   "metadata": {},
   "outputs": [],
   "source": [
    "# [7] Colesterol: Intervalo central 95% (P2.5 a P97.5)\n",
    "# Excel (inf): =NORM.INV(0.025, μ_col, σ_col)\n",
    "# Excel (sup): =NORM.INV(0.975, μ_col, σ_col)\n",
    "# =========================================================\n",
    "col_p025 = norm.ppf(0.025, mu_col, sd_col)\n",
    "col_p975 = norm.ppf(0.975, mu_col, sd_col)\n",
    "print(\"[7] Colesterol central 95% =\", f\"[{fmt(col_p025)}, {fmt(col_p975)}] mg/dL\")"
   ]
  },
  {
   "cell_type": "code",
   "execution_count": null,
   "id": "42c30129",
   "metadata": {},
   "outputs": [],
   "source": [
    "# [8] IMC: ¿P(IMC > 30)? (obesidad)\n",
    "# Excel: =1 - NORM.DIST(30, μ_imc, σ_imc, VERDADERO)\n",
    "# =========================================================\n",
    "p8 = 1.0 - norm.cdf(30, mu_imc, sd_imc)\n",
    "print(\"[8] P(IMC > 30) =\", fmt(p8))"
   ]
  },
  {
   "cell_type": "code",
   "execution_count": null,
   "id": "e8544b42",
   "metadata": {},
   "outputs": [],
   "source": [
    "# [9] IMC: Percentil 75\n",
    "# Excel: =NORM.INV(0.75, μ_imc, σ_imc)\n",
    "# =========================================================\n",
    "p9 = norm.ppf(0.75, mu_imc, sd_imc)\n",
    "print(\"[9] IMC en P75 =\", fmt(p9), \"kg/m²\")\n"
   ]
  },
  {
   "cell_type": "code",
   "execution_count": null,
   "id": "dd59d044",
   "metadata": {},
   "outputs": [],
   "source": [
    "# [10] Tiempo de coagulación: ¿P(Coag < 10 s)?\n",
    "# Excel: =NORM.DIST(10, μ_coag, σ_coag, VERDADERO)\n",
    "# =========================================================\n",
    "p10 = norm.cdf(10, mu_coag, sd_coag)\n",
    "print(\"[10] P(Coag < 10 s) =\", fmt(p10))\n",
    "\n",
    "# (Opcional) si quieres devolver los resultados en un dict:\n",
    "results = {\n",
    "    \"p_age_lt_40\": p1,\n",
    "    \"p_age_45_60\": p2,\n",
    "    \"age_p90\": p3,\n",
    "    \"p_pas_gt_140\": p4,\n",
    "    \"pas_p95\": p5,\n",
    "    \"p_col_gt_240\": p6,\n",
    "    \"col_p025\": col_p025,\n",
    "    \"col_p975\": col_p975,\n",
    "    \"p_imc_gt_30\": p8,\n",
    "    \"imc_p75\": p9,\n",
    "    \"p_coag_lt_10\": p10,\n",
    "}"
   ]
  },
  {
   "cell_type": "code",
   "execution_count": null,
   "id": "0cdeec1e",
   "metadata": {},
   "outputs": [],
   "source": [
    "# [11] Intervalo 95% de coagulación\n",
    "# Excel: =NORM.INV(0.025, μ_coag, σ_coag) ; =NORM.INV(0.975, μ_coag, σ_coag)\n",
    "# =========================================================\n",
    "x = pd.to_numeric(df[\"coag_seg\"], errors=\"coerce\").dropna()\n",
    "mu, sd = float(x.mean()), float(x.std(ddof=1))\n",
    "low, high = norm.ppf(0.025, mu, sd), norm.ppf(0.975, mu, sd)\n",
    "print(f\"[11] Intervalo 95% coagulación: [{fmt(low)}, {fmt(high)}] segundos\")\n"
   ]
  },
  {
   "cell_type": "code",
   "execution_count": null,
   "id": "d75eaca5",
   "metadata": {},
   "outputs": [],
   "source": [
    "# [12] Vacunación: proporción observada vs 80% esperado\n",
    "# Excel: p_obs = PROMEDIO(vacunado)\n",
    "#        z = (p_obs-0.8)/RAIZ(0.8*0.2/n)\n",
    "# =========================================================\n",
    "vacc = pd.to_numeric(df[\"vacunado\"], errors=\"coerce\").dropna()\n",
    "n = len(vacc)\n",
    "p_obs = float(vacc.mean())\n",
    "p0 = 0.80\n",
    "se0 = (p0*(1-p0)/n)**0.5\n",
    "z = (p_obs - p0) / se0\n",
    "pval = 2*(1 - norm.cdf(abs(z)))\n",
    "print(f\"[12] p_obs={fmt(p_obs)}, z={fmt(z)}, p-valor={fmt(pval)} (n={n})\")\n"
   ]
  },
  {
   "cell_type": "code",
   "execution_count": null,
   "id": "9b8124da",
   "metadata": {},
   "outputs": [],
   "source": [
    "# [13] Proporción atendidos en 1er semestre 2025\n",
    "# Excel: =CONTAR.SI.CONJ(AÑO(fecha);2025; MES(fecha);\"<=\"&6)/N\n",
    "# =========================================================\n",
    "fechas = pd.to_datetime(df[\"fecha_atencion\"], errors=\"coerce\")\n",
    "mask = (fechas.dt.year == 2025) & (fechas.dt.month <= 6)\n",
    "prop = mask.mean()\n",
    "print(f\"[13] Proporción atendidos 1er semestre 2025 = {fmt(prop)}\")\n"
   ]
  },
  {
   "cell_type": "code",
   "execution_count": null,
   "id": "d334dbba",
   "metadata": {},
   "outputs": [],
   "source": [
    "# [14] Valor Z para PAS=160 corregir con la imagen y entender\n",
    "# Excel: =(160 - μ_pas)/σ_pas\n",
    "# =========================================================\n",
    "pas = pd.to_numeric(df[\"pas_mmHg\"], errors=\"coerce\").dropna()\n",
    "mu_pas, sd_pas = float(pas.mean()), float(pas.std(ddof=1))\n",
    "z_val = (160 - mu_pas) / sd_pas\n",
    "tail = 1 - norm.cdf(160, mu_pas, sd_pas)\n",
    "print(f\"[14] z(PAS=160) = {fmt(z_val)} ; P(PAS≥160) = {fmt(tail)}\")"
   ]
  },
  {
   "cell_type": "code",
   "execution_count": null,
   "id": "b1cee179",
   "metadata": {},
   "outputs": [],
   "source": [
    "# [15] Percentil 80 del colesterol\n",
    "# Excel: =NORM.INV(0.80, μ_col, σ_col)\n",
    "# =========================================================\n",
    "col = pd.to_numeric(df[\"colesterol_mgdl\"], errors=\"coerce\").dropna()\n",
    "mu_col, sd_col = float(col.mean()), float(col.std(ddof=1))\n",
    "cut80 = norm.ppf(0.80, mu_col, sd_col)\n",
    "print(f\"[15] Percentil 80 colesterol = {fmt(cut80)} mg/dL\") "
   ]
  }
 ],
 "metadata": {
  "kernelspec": {
   "display_name": "base",
   "language": "python",
   "name": "python3"
  },
  "language_info": {
   "codemirror_mode": {
    "name": "ipython",
    "version": 3
   },
   "file_extension": ".py",
   "mimetype": "text/x-python",
   "name": "python",
   "nbconvert_exporter": "python",
   "pygments_lexer": "ipython3",
   "version": "3.13.5"
  }
 },
 "nbformat": 4,
 "nbformat_minor": 5
}
