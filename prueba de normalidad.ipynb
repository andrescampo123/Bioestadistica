{
 "cells": [
  {
   "cell_type": "code",
   "execution_count": null,
   "id": "267aa20e",
   "metadata": {},
   "outputs": [],
   "source": [
    "import pandas as pd\n",
    "import numpy as np\n",
    "import matplotlib.pyplot as plt\n",
    "import statsmodels.api as sm\n",
    "from scipy.stats import shapiro, kstest, anderson, norm\n"
   ]
  },
  {
   "cell_type": "code",
   "execution_count": null,
   "id": "a9b90098",
   "metadata": {},
   "outputs": [],
   "source": [
    "\n",
    "csv_path = \"Datos_E.csv\"         # Archivo\n",
    "var      = \"Tasa de Incidencia\"  # columna a evaluar \n",
    "\n",
    "df = pd.read_csv(csv_path, sep=\";\", encoding=\"latin-1\")\n",
    "x = pd.to_numeric(df[var], errors=\"coerce\").dropna()\n",
    "n = len(x)\n",
    "#conversion a varibale numerica de , a .\n",
    "df[\"Tasa de Incidencia\"] = df[\"Tasa de Incidencia\"].str.replace(\",\", \".\").astype(float)\n",
    "x = df[\"Tasa de Incidencia\"].dropna()\n",
    "n = len(x)"
   ]
  },
  {
   "cell_type": "code",
   "execution_count": null,
   "id": "dcf6df43",
   "metadata": {},
   "outputs": [],
   "source": [
    "\n",
    "# Shapiro-Wilk\n",
    "sw_stat, sw_p = shapiro(x if n <= 50 else x.sample(50, random_state=42))\n",
    "print(f\"Shapiro-Wilk: stat={sw_stat:.4f}, p={sw_p:.4f}\")\n"
   ]
  },
  {
   "cell_type": "code",
   "execution_count": null,
   "id": "ad2faef9",
   "metadata": {},
   "outputs": [],
   "source": [
    "# Kolmogorov-Smirnov (contra N(0,1) tras estandarizar)\n",
    "sigma = x.std(ddof=0)\n",
    "if sigma == 0:\n",
    "    print(\"Kolmogorov-Smirnov: σ=0 (variable constante) → no aplica.\")\n",
    "else:\n",
    "    z = (x - x.mean()) / sigma\n",
    "    ks_stat, ks_p = kstest(z, \"norm\")\n",
    "    print(f\"Kolmogorov-Smirnov: stat={ks_stat:.4f}, p={ks_p:.4f}\")"
   ]
  },
  {
   "cell_type": "code",
   "execution_count": null,
   "id": "2a104131",
   "metadata": {},
   "outputs": [],
   "source": [
    "# Anderson-Darling\n",
    "ad = anderson(x, dist='norm')\n",
    "print(f\"Anderson-Darling: stat={ad.statistic:.4f}  (cv 5%={ad.critical_values[2]:.4f})\",\n",
    "      \"→ NO rechaza\" if ad.statistic < ad.critical_values[2] else \"→ Rechaza\")"
   ]
  },
  {
   "cell_type": "code",
   "execution_count": null,
   "id": "c615586f",
   "metadata": {},
   "outputs": [],
   "source": [
    "# Q-Q Plot\n",
    "sm.qqplot(x, line='45'); plt.title(f\"Q-Q Plot: {var}\"); plt.show()\n",
    "\n",
    "# Histograma + curva normal\n",
    "xs = np.linspace(x.min(), x.max(), 50)\n",
    "plt.hist(x, bins=20, density=True, alpha=0.5)\n",
    "plt.plot(xs, norm.pdf(xs, x.mean(), sigma), lw=2)\n",
    "plt.title(f\"Histograma + Normal ajustada: {var}\")\n",
    "plt.xlabel(var); plt.ylabel(\"Densidad\"); plt.show()"
   ]
  },
  {
   "cell_type": "code",
   "execution_count": 26,
   "id": "6cb92914",
   "metadata": {},
   "outputs": [
    {
     "name": "stdout",
     "output_type": "stream",
     "text": [
      "Medias de las muestras aleatorias:\n",
      "n=10: media=61.42\n",
      "n=20: media=61.32\n",
      "n=30: media=54.87\n",
      "n=40: media=54.66\n",
      "n=50: media=53.22\n"
     ]
    }
   ],
   "source": [
    "# Paso 4\n",
    "tamaños = [10,20,30,40,50,60,70,80,90,100]\n",
    "\n",
    "# Opción A: filtrar tamaños mayores que n\n",
    "tamaños_validos = [t for t in tamaños if t <= len(x)]\n",
    "\n",
    "medias_muestras = {}\n",
    "for n_muestra in tamaños_validos:\n",
    "    muestra = x.sample(n=n_muestra, replace=True, random_state=None)\n",
    "    medias_muestras[n_muestra] = muestra.mean()\n",
    "\n",
    "print(\"Medias de las muestras aleatorias:\")\n",
    "for n_muestra, media in medias_muestras.items():\n",
    "    print(f\"n={n_muestra}: media={media:.2f}\")\n",
    "\n"
   ]
  },
  {
   "cell_type": "code",
   "execution_count": 32,
   "id": "ce6ec7dc",
   "metadata": {},
   "outputs": [
    {
     "name": "stdout",
     "output_type": "stream",
     "text": [
      "\n",
      "Tres muestras de tamaño 20 y sus medias:\n",
      "Muestra 1: media=52.52\n",
      "Muestra 2: media=53.76\n",
      "Muestra 3: media=52.95\n",
      "Promedio de las tres muestras: 53.08\n"
     ]
    }
   ],
   "source": [
    "# Paso 5 corregido tres muestras del mismo tamaño\n",
    "muestras_20 = [x.sample(n=500, replace=True, random_state=i) for i in range(1,4)]\n",
    "medias_20 = [m.mean() for m in muestras_20]\n",
    "\n",
    "print(\"\\nTres muestras de tamaño 20 y sus medias:\")\n",
    "for i, media in enumerate(medias_20, start=1):\n",
    "    #dame el promedio de promedio de las tres muestras\n",
    "    promedio = sum(medias_20) / len(medias_20)\n",
    "    print(f\"Muestra {i}: media={media:.2f}\")\n",
    "print(f\"Promedio de las tres muestras: {promedio:.2f}\")"
   ]
  }
 ],
 "metadata": {
  "kernelspec": {
   "display_name": "base",
   "language": "python",
   "name": "python3"
  },
  "language_info": {
   "codemirror_mode": {
    "name": "ipython",
    "version": 3
   },
   "file_extension": ".py",
   "mimetype": "text/x-python",
   "name": "python",
   "nbconvert_exporter": "python",
   "pygments_lexer": "ipython3",
   "version": "3.13.5"
  }
 },
 "nbformat": 4,
 "nbformat_minor": 5
}
