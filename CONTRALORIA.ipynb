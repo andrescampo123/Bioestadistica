{
 "cells": [
  {
   "cell_type": "code",
   "execution_count": null,
   "id": "0d211951",
   "metadata": {},
   "outputs": [],
   "source": [
    "import pandas as pd\n",
    "\n",
    "df = pd.read_csv(\"SECOP.csv\", sep=\";\", low_memory=False)\n",
    "print(df.head(10))"
   ]
  },
  {
   "cell_type": "code",
   "execution_count": null,
   "id": "21cc5da8",
   "metadata": {},
   "outputs": [],
   "source": [
    "print(\"\\nColumnas disponibles:\\n\", df.columns.tolist())\n"
   ]
  },
  {
   "cell_type": "code",
   "execution_count": null,
   "id": "1d72288a",
   "metadata": {},
   "outputs": [],
   "source": [
    "# Cargar el archivo CSV con el separador correcto\n",
    "df = pd.read_csv(\"SECOP.csv\", sep=\",\", low_memory=False)\n",
    "# Limpiar nombres de columnas quitando comillas\n",
    "df.columns = df.columns.str.strip('\"')\n",
    "\n",
    "if \"Tipo de Contrato\" in df.columns:\n",
    "    print(\"\\nTipos de contrato y sus frecuencias:\\n\")\n",
    "    print(df[\"Tipo de Contrato\"].value_counts())\n",
    "else:\n",
    "    print(\"No encontré una columna llamada 'Tipo de Contrato'\")"
   ]
  }
 ],
 "metadata": {
  "kernelspec": {
   "display_name": "base",
   "language": "python",
   "name": "python3"
  },
  "language_info": {
   "codemirror_mode": {
    "name": "ipython",
    "version": 3
   },
   "file_extension": ".py",
   "mimetype": "text/x-python",
   "name": "python",
   "nbconvert_exporter": "python",
   "pygments_lexer": "ipython3",
   "version": "3.13.5"
  }
 },
 "nbformat": 4,
 "nbformat_minor": 5
}
